{
 "cells": [
  {
   "cell_type": "code",
   "execution_count": 2,
   "id": "d76b8c4e-8665-49eb-b6f0-9783710a02df",
   "metadata": {},
   "outputs": [],
   "source": [
    "def subfieldsinAI():\n",
    "    subFields = [\"Machine Learning\", \"Deep Learning\", \"NLP\", \"Timeseriesanaysis\"]\n",
    "    print(\"Sub fields in ai are\")\n",
    "    for field in subFields:\n",
    "        print(field)"
   ]
  },
  {
   "cell_type": "code",
   "execution_count": 4,
   "id": "6a7c7d11-3e89-44fc-bd23-744330992811",
   "metadata": {},
   "outputs": [
    {
     "name": "stdout",
     "output_type": "stream",
     "text": [
      "Sub fields in ai are\n",
      "Machine Learning\n",
      "Deep Learning\n",
      "NLP\n",
      "Timeseriesanaysis\n"
     ]
    }
   ],
   "source": [
    "subfieldsinAI()"
   ]
  },
  {
   "cell_type": "code",
   "execution_count": 5,
   "id": "ddb5750c-5ae8-4601-8db0-806d40a70a45",
   "metadata": {},
   "outputs": [],
   "source": [
    "def oddOrEven(number):\n",
    "    if number%2 == 0:\n",
    "        message = \"Even\"\n",
    "    else:\n",
    "        message = \"Odd\"\n",
    "    return message\n",
    "        "
   ]
  },
  {
   "cell_type": "code",
   "execution_count": 6,
   "id": "acb7123c-36ee-4f41-8d8d-4dcee4ec43e0",
   "metadata": {},
   "outputs": [],
   "source": [
    "status = oddOrEven(6)"
   ]
  },
  {
   "cell_type": "code",
   "execution_count": 7,
   "id": "e080e2ee-52db-4689-a420-c841a75c9fa9",
   "metadata": {},
   "outputs": [
    {
     "name": "stdout",
     "output_type": "stream",
     "text": [
      "Even\n"
     ]
    }
   ],
   "source": [
    "print(status)"
   ]
  },
  {
   "cell_type": "code",
   "execution_count": 8,
   "id": "22b44f7e-b3eb-46dc-8485-aa80aaa70150",
   "metadata": {},
   "outputs": [
    {
     "name": "stdin",
     "output_type": "stream",
     "text": [
      "Enter the number to check  345\n"
     ]
    },
    {
     "name": "stdout",
     "output_type": "stream",
     "text": [
      "Odd\n"
     ]
    }
   ],
   "source": [
    "number2Check = int(input(\"Enter the number to check \"))\n",
    "status = oddOrEven(number2Check)\n",
    "print(status)"
   ]
  },
  {
   "cell_type": "code",
   "execution_count": 13,
   "id": "ddec311e-6f73-4cf0-833a-ab41a7c5b35d",
   "metadata": {},
   "outputs": [],
   "source": [
    "def eligiblityForMarriage(gender, age):\n",
    "    if gender==\"Male\" and age >=21:\n",
    "        status = \"Eligible\"\n",
    "    elif gender ==\"Female\" and age >=18 :\n",
    "        status =\"Eligible\" \n",
    "    else:\n",
    "        status =\"Not Eligible\"\n",
    "    return status"
   ]
  },
  {
   "cell_type": "code",
   "execution_count": 10,
   "id": "87bee32a-9f6e-46ae-ba31-fcc377875f09",
   "metadata": {},
   "outputs": [
    {
     "name": "stdout",
     "output_type": "stream",
     "text": [
      "Not Eligible\n"
     ]
    }
   ],
   "source": [
    "isEligible = eligiblityForMarriage(\"Male\",14)\n",
    "print(isEligible)"
   ]
  },
  {
   "cell_type": "code",
   "execution_count": 14,
   "id": "aee54286-1142-4736-a2fd-2b967d059b32",
   "metadata": {},
   "outputs": [
    {
     "name": "stdout",
     "output_type": "stream",
     "text": [
      "Eligible\n"
     ]
    }
   ],
   "source": [
    "print(eligiblityForMarriage(\"Female\" , 34))"
   ]
  },
  {
   "cell_type": "code",
   "execution_count": 15,
   "id": "f4e1bfba-613e-47e0-9eb9-8103d2d457ff",
   "metadata": {},
   "outputs": [],
   "source": [
    "def findPercent(s1,s2,s3,s4,s5):\n",
    "    total = s1+s2+s3+s4+s5\n",
    "    percentage = (total / 500) * 100\n",
    "    return percentage\n",
    "    "
   ]
  },
  {
   "cell_type": "code",
   "execution_count": 16,
   "id": "6e78b76f-3c1e-4389-99da-b7c86221106e",
   "metadata": {},
   "outputs": [
    {
     "name": "stdout",
     "output_type": "stream",
     "text": [
      "92.80000000000001\n"
     ]
    }
   ],
   "source": [
    "percent=findPercent(88,89,90,98,99)\n",
    "print(percent)"
   ]
  },
  {
   "cell_type": "code",
   "execution_count": 17,
   "id": "18e4f69c-3568-4e33-ab55-a993e266f48d",
   "metadata": {},
   "outputs": [
    {
     "name": "stdout",
     "output_type": "stream",
     "text": [
      "Your percentage is: 92.80%\n"
     ]
    }
   ],
   "source": [
    "print(f\"Your percentage is: {percent:.2f}%\")"
   ]
  },
  {
   "cell_type": "code",
   "execution_count": 20,
   "id": "8ba6c3e5-efdf-4d65-92a4-911f281e8727",
   "metadata": {},
   "outputs": [],
   "source": [
    "import math\n",
    "def perimeter(a, b, c):\n",
    "    return a + b + c\n",
    "\n",
    "def area(a, b, c):\n",
    "    s = perimeter(a, b, c) / 2  # semi-perimeter\n",
    "    return math.sqrt(s * (s - a) * (s - b) * (s - c))"
   ]
  },
  {
   "cell_type": "code",
   "execution_count": 21,
   "id": "1d89fdd0-7b32-41c0-863e-22c5f1b19661",
   "metadata": {},
   "outputs": [
    {
     "name": "stdout",
     "output_type": "stream",
     "text": [
      "Perimeter: 12\n",
      "Area: 6.0\n"
     ]
    }
   ],
   "source": [
    "a, b, c = 3, 4, 5\n",
    "\n",
    "print(\"Perimeter:\", perimeter(a, b, c))  \n",
    "print(\"Area:\", area(a, b, c)) "
   ]
  },
  {
   "cell_type": "code",
   "execution_count": null,
   "id": "c7e331da-ac8e-4391-b8c3-6844c6e98474",
   "metadata": {},
   "outputs": [],
   "source": []
  }
 ],
 "metadata": {
  "kernelspec": {
   "display_name": "Python [conda env:base] *",
   "language": "python",
   "name": "conda-base-py"
  },
  "language_info": {
   "codemirror_mode": {
    "name": "ipython",
    "version": 3
   },
   "file_extension": ".py",
   "mimetype": "text/x-python",
   "name": "python",
   "nbconvert_exporter": "python",
   "pygments_lexer": "ipython3",
   "version": "3.12.7"
  }
 },
 "nbformat": 4,
 "nbformat_minor": 5
}
