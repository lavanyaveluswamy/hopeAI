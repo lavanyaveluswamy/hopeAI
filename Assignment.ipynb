{
 "cells": [
  {
   "cell_type": "code",
   "execution_count": 1,
   "id": "cc6aba80-e6cb-4a14-b88b-c296c2fbdea4",
   "metadata": {},
   "outputs": [
    {
     "name": "stdout",
     "output_type": "stream",
     "text": [
      "Welcome to Assingment-1\n"
     ]
    }
   ],
   "source": [
    "print(\"Welcome to Assingment-1\")"
   ]
  },
  {
   "cell_type": "code",
   "execution_count": 2,
   "id": "57abc0df-46cd-4dea-a9c6-30850533751c",
   "metadata": {},
   "outputs": [
    {
     "name": "stdout",
     "output_type": "stream",
     "text": [
      "Num1= 10\n",
      "Num2= 30\n",
      "Add= 40\n"
     ]
    }
   ],
   "source": [
    "Num1 = 10\n",
    "print(\"Num1=\", Num1)\n",
    "Num2= 30\n",
    "print(\"Num2=\", Num2)\n",
    "Add = Num1+Num2\n",
    "print(\"Add=\", Add)\n",
    "      "
   ]
  },
  {
   "cell_type": "code",
   "execution_count": null,
   "id": "bf64814d-a526-4ab4-97f3-9e6775f32be1",
   "metadata": {},
   "outputs": [],
   "source": [
    "Underweight: BMI less than 18.5. \n",
    "Healthy Weight: BMI between 18.5 and 24.9. \n",
    "Overweight: BMI between 25 and 29.9. \n",
    "Obesity: BMI of 30 or higher. \n",
    "Class 1 Obesity: BMI 30 to 34.9. \n",
    "Class 2 Obesity: BMI 35 to 39.9. \n",
    "Class 3 Obesity (Severe Obesity): BMI 40 or higher. "
   ]
  },
  {
   "cell_type": "code",
   "execution_count": null,
   "id": "b22a3078-c6fc-43f1-865d-9c52e8ed42c5",
   "metadata": {},
   "outputs": [
    {
     "name": "stdout",
     "output_type": "stream",
     "text": [
      "Enter the BMI Index 45\n"
     ]
    },
    {
     "name": "stdout",
     "output_type": "stream",
     "text": [
      "Severe Obesity\n"
     ]
    }
   ],
   "source": [
    "BMI = int(input(\"Enter the BMI Index\"))\n",
    "if BMI < 18.5:\n",
    "    print(\"Underweight\")\n",
    "elif 18.5 <= BMI < 24.9:\n",
    "    print(\"Healthy\")\n",
    "elif 25 <= BMI < 29.9:\n",
    "    print(\"Overweight\")\n",
    "elif 30 <= BMI < 34.9:\n",
    "    print(\"Class 1 Obesity\")\n",
    "elif 35 <= BMI < 39.9:\n",
    "    print(\"Class 2 Obesity\")\n",
    "else:\n",
    "    print(\"Severe Obesity\")"
   ]
  },
  {
   "cell_type": "code",
   "execution_count": null,
   "id": "bd0fbe34-9cc5-48f6-8b8b-7ac176d4637b",
   "metadata": {},
   "outputs": [],
   "source": []
  },
  {
   "cell_type": "code",
   "execution_count": null,
   "id": "032a4d82-0e42-4dcc-8978-e6e358200b96",
   "metadata": {},
   "outputs": [],
   "source": []
  }
 ],
 "metadata": {
  "kernelspec": {
   "display_name": "Python [conda env:base] *",
   "language": "python",
   "name": "conda-base-py"
  },
  "language_info": {
   "codemirror_mode": {
    "name": "ipython",
    "version": 3
   },
   "file_extension": ".py",
   "mimetype": "text/x-python",
   "name": "python",
   "nbconvert_exporter": "python",
   "pygments_lexer": "ipython3",
   "version": "3.12.7"
  }
 },
 "nbformat": 4,
 "nbformat_minor": 5
}
