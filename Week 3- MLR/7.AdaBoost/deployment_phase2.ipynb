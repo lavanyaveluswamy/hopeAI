{
 "cells": [
  {
   "cell_type": "code",
   "execution_count": 1,
   "id": "9a0b57dd-ca49-4a62-aadd-51fb73e41382",
   "metadata": {},
   "outputs": [],
   "source": [
    "import pickle"
   ]
  },
  {
   "cell_type": "code",
   "execution_count": 2,
   "id": "94630db2-00d3-4c77-b0ee-bae4f173327f",
   "metadata": {},
   "outputs": [],
   "source": [
    "loaded_model = pickle.load(open(\"RandomForestModelStartup.sav\",'rb'))"
   ]
  },
  {
   "cell_type": "code",
   "execution_count": 3,
   "id": "9a6ba4a8-a5d1-43ff-85fd-166c6fa2208b",
   "metadata": {},
   "outputs": [
    {
     "name": "stdin",
     "output_type": "stream",
     "text": [
      "R&D 234\n",
      "Adminstrator 34535\n",
      "Marketing 345353\n",
      "Florida 34535\n",
      "NewYork 34535\n"
     ]
    }
   ],
   "source": [
    "rd_input = float(input(\"R&D\"))\n",
    "admin_input = float(input(\"Adminstrator\"))\n",
    "marketing_input = float(input(\"Marketing\"))\n",
    "florida_input = int(input(\"Florida\"))\n",
    "newYork_input = int(input(\"NewYork\"))"
   ]
  },
  {
   "cell_type": "code",
   "execution_count": 4,
   "id": "4834bf03-574b-4f58-b1ea-9586fae579ae",
   "metadata": {},
   "outputs": [
    {
     "name": "stderr",
     "output_type": "stream",
     "text": [
      "C:\\anaconda3\\Lib\\site-packages\\sklearn\\base.py:493: UserWarning: X does not have valid feature names, but RandomForestRegressor was fitted with feature names\n",
      "  warnings.warn(\n"
     ]
    },
    {
     "data": {
      "text/plain": [
       "array([31135.36])"
      ]
     },
     "execution_count": 4,
     "metadata": {},
     "output_type": "execute_result"
    }
   ],
   "source": [
    "result = loaded_model.predict([[rd_input,admin_input, marketing_input, florida_input, newYork_input]])\n",
    "result"
   ]
  }
 ],
 "metadata": {
  "kernelspec": {
   "display_name": "Python [conda env:base] *",
   "language": "python",
   "name": "conda-base-py"
  },
  "language_info": {
   "codemirror_mode": {
    "name": "ipython",
    "version": 3
   },
   "file_extension": ".py",
   "mimetype": "text/x-python",
   "name": "python",
   "nbconvert_exporter": "python",
   "pygments_lexer": "ipython3",
   "version": "3.12.7"
  }
 },
 "nbformat": 4,
 "nbformat_minor": 5
}
