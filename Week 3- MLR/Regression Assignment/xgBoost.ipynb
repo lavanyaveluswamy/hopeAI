{
 "cells": [
  {
   "cell_type": "code",
   "execution_count": 1,
   "id": "4b9db111-0b71-4acd-b86c-a24d85588e8e",
   "metadata": {},
   "outputs": [],
   "source": [
    "import pandas as pd\n",
    "dataset = pd.read_csv(\"insurance_pre.csv\")"
   ]
  },
  {
   "cell_type": "code",
   "execution_count": 2,
   "id": "d5ad4c66-2748-42ff-b112-31c8ea3e7129",
   "metadata": {},
   "outputs": [],
   "source": [
    "dataset = pd.get_dummies(dataset,drop_first = True)\n",
    "dataset = dataset.astype(int)"
   ]
  },
  {
   "cell_type": "code",
   "execution_count": 3,
   "id": "161ffec5-92a5-484d-949c-6aa5b023cdcd",
   "metadata": {},
   "outputs": [],
   "source": [
    "independent = dataset[['age', 'bmi', 'children','sex_male','smoker_yes']]\n",
    "dependent = dataset[['charges']]"
   ]
  },
  {
   "cell_type": "code",
   "execution_count": 4,
   "id": "95195fb1-ee43-4246-9590-6c2d11cc26e6",
   "metadata": {},
   "outputs": [],
   "source": [
    "from sklearn.model_selection import train_test_split\n",
    "x_train, x_test, y_train, y_test = train_test_split(independent, dependent,test_size = 0.30, random_state = 0)"
   ]
  },
  {
   "cell_type": "code",
   "execution_count": 5,
   "id": "67b10367-76be-4407-babd-53c3bc5b00b6",
   "metadata": {},
   "outputs": [],
   "source": [
    "import xgboost\n",
    "from xgboost import XGBRegressor\n"
   ]
  },
  {
   "cell_type": "code",
   "execution_count": 6,
   "id": "ead10059-1d9b-4eca-a283-4fb2e773f839",
   "metadata": {},
   "outputs": [],
   "source": [
    "# Create the model\n",
    "regressor = XGBRegressor()\n",
    "regressor = regressor.fit(x_train, y_train)"
   ]
  },
  {
   "cell_type": "code",
   "execution_count": 7,
   "id": "971f1306-4713-4e8f-9799-4fa0ca273c2b",
   "metadata": {},
   "outputs": [],
   "source": [
    "y_pred = regressor.predict(x_test)"
   ]
  },
  {
   "cell_type": "code",
   "execution_count": 8,
   "id": "7fb16d05-4316-4584-bde7-be89a691c3fc",
   "metadata": {},
   "outputs": [
    {
     "data": {
      "text/plain": [
       "0.8073014616966248"
      ]
     },
     "execution_count": 8,
     "metadata": {},
     "output_type": "execute_result"
    }
   ],
   "source": [
    "from sklearn.metrics import r2_score\n",
    "r_score = r2_score\n",
    "result = r_score(y_test,y_pred)\n",
    "result"
   ]
  }
 ],
 "metadata": {
  "kernelspec": {
   "display_name": "Python [conda env:base] *",
   "language": "python",
   "name": "conda-base-py"
  },
  "language_info": {
   "codemirror_mode": {
    "name": "ipython",
    "version": 3
   },
   "file_extension": ".py",
   "mimetype": "text/x-python",
   "name": "python",
   "nbconvert_exporter": "python",
   "pygments_lexer": "ipython3",
   "version": "3.12.7"
  }
 },
 "nbformat": 4,
 "nbformat_minor": 5
}
