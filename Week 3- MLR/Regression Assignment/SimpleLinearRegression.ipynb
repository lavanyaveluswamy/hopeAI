{
 "cells": [
  {
   "cell_type": "code",
   "execution_count": null,
   "id": "1c817ed3-d72d-4c8a-a596-ec5e5520f3c1",
   "metadata": {},
   "outputs": [],
   "source": [
    "#Importing the library pandas. This is used for table operation like read the csv,excel or different files and also used to assign the input and output\n",
    "import pandas as pd"
   ]
  },
  {
   "cell_type": "code",
   "execution_count": null,
   "id": "34bb3319-c76e-4b6f-9921-b9cdda6b728b",
   "metadata": {},
   "outputs": [],
   "source": [
    "# We are loading the dataset using pandas and printing the dataset\n",
    "dataset = pd.read_csv(\"insurance_pre.csv\")\n",
    "dataset"
   ]
  },
  {
   "cell_type": "code",
   "execution_count": null,
   "id": "72d5d7a8-a673-49a8-bd32-51b0045ebf85",
   "metadata": {},
   "outputs": [],
   "source": [
    "#Here we are getting the inputs(independent variable) and displaying the result \n",
    "independent = dataset[[\"YearsExperience\"]]\n",
    "independent"
   ]
  },
  {
   "cell_type": "code",
   "execution_count": null,
   "id": "8efe77e5-f70c-412b-b42c-6466256b820e",
   "metadata": {},
   "outputs": [],
   "source": [
    "#Here we are fetching the dependent variable\n",
    "#Dependent variable depends on indepdendent variable\n",
    "dependent = dataset[[\"Salary\"]]\n",
    "dependent"
   ]
  },
  {
   "cell_type": "code",
   "execution_count": null,
   "id": "527cbdc4-24dd-4d2a-a6bd-aa3ec99f3fbd",
   "metadata": {},
   "outputs": [],
   "source": [
    "#From SkLearn Library Model selection folder we are importing the train_test_split to split the test and train data\n",
    "\n",
    "from sklearn.model_selection import train_test_split\n",
    "X_train,X_test, Y_train, Y_test = train_test_split(independent, dependent,test_size=0.30, random_state=0)"
   ]
  },
  {
   "cell_type": "code",
   "execution_count": null,
   "id": "10835ad3-4b57-491d-80b5-507d086b8584",
   "metadata": {},
   "outputs": [],
   "source": [
    "X_train"
   ]
  },
  {
   "cell_type": "code",
   "execution_count": null,
   "id": "25943f5f-36d8-45cf-80c1-0a639c44f62a",
   "metadata": {},
   "outputs": [],
   "source": [
    "#Importing the LinearRegression from sklearn library linear_model \n",
    "from sklearn.linear_model import LinearRegression\n",
    "regressor = LinearRegression()\n",
    "regressor.fit(X_train, Y_train)"
   ]
  },
  {
   "cell_type": "code",
   "execution_count": null,
   "id": "cbbaffdc-dc16-49d9-94e7-97f8332e4ecc",
   "metadata": {},
   "outputs": [],
   "source": [
    "#Calculating the weight using coefficient value \n",
    "weight = regressor.coef_\n",
    "weight"
   ]
  },
  {
   "cell_type": "code",
   "execution_count": null,
   "id": "e192f119-2fcc-47fb-9832-511e9e769db3",
   "metadata": {},
   "outputs": [],
   "source": [
    "#Calculating the bias using inetcept value\n",
    "bias = regressor.intercept_\n",
    "bias"
   ]
  },
  {
   "cell_type": "code",
   "execution_count": null,
   "id": "c7dc1773-4b85-46a5-bf19-fcdec82459cc",
   "metadata": {},
   "outputs": [],
   "source": [
    "y_pred = regressor.predict(X_test)\n",
    "y_pred, Y_test"
   ]
  },
  {
   "cell_type": "code",
   "execution_count": null,
   "id": "a1fc4fae-aee6-4de1-87db-a6e334f3f97a",
   "metadata": {},
   "outputs": [],
   "source": [
    "#Importing the r2_score to calculate the r2_score value to evalvuate our model. If the value is closer to 1 it is good model\n",
    "from sklearn.metrics import r2_score\n",
    "r_score = r2_score(Y_test, y_pred)\n",
    "r_score\n"
   ]
  },
  {
   "cell_type": "code",
   "execution_count": null,
   "id": "b7886962-92a8-4c42-98d7-99d720e46c0b",
   "metadata": {},
   "outputs": [],
   "source": [
    "#Based on the score, we decided to save the model for future usage. Pickle is the librabry used for the same.  Using pickel we are saving the model\n",
    "import pickle\n",
    "filename = \"finalized_model_linear.sav\""
   ]
  },
  {
   "cell_type": "code",
   "execution_count": null,
   "id": "8cc0f461-601c-430b-9164-ad0f75b6050b",
   "metadata": {},
   "outputs": [],
   "source": [
    "pickle.dump(regressor, open(filename, 'wb'))"
   ]
  },
  {
   "cell_type": "code",
   "execution_count": null,
   "id": "513c2bd8-6ed4-41e5-90f2-1ed04fd62854",
   "metadata": {},
   "outputs": [],
   "source": [
    "# Now time to test our model by passing the input to the model.with the help of pickle we can load the file and we can predict the output\n",
    "loaded_model = pickle.load(open(\"finalized_model_linear.sav\",'rb'))\n",
    "result = loaded_model.predict([[2]])\n"
   ]
  },
  {
   "cell_type": "raw",
   "id": "0d3f5e01-297a-45fe-be53-2cbc3a44de9d",
   "metadata": {},
   "source": [
    "result"
   ]
  },
  {
   "cell_type": "code",
   "execution_count": null,
   "id": "30553d36-e622-45fe-bbd5-868dc4ba25d1",
   "metadata": {},
   "outputs": [],
   "source": [
    "loaded_model.predict([[2]])"
   ]
  },
  {
   "cell_type": "code",
   "execution_count": null,
   "id": "d15dee63-175c-474f-ab47-6347291893e4",
   "metadata": {},
   "outputs": [],
   "source": [
    "result"
   ]
  },
  {
   "cell_type": "code",
   "execution_count": null,
   "id": "c218b8cc-5309-4307-8d42-fe5a917a8d6b",
   "metadata": {},
   "outputs": [],
   "source": []
  }
 ],
 "metadata": {
  "kernelspec": {
   "display_name": "Python [conda env:base] *",
   "language": "python",
   "name": "conda-base-py"
  },
  "language_info": {
   "codemirror_mode": {
    "name": "ipython",
    "version": 3
   },
   "file_extension": ".py",
   "mimetype": "text/x-python",
   "name": "python",
   "nbconvert_exporter": "python",
   "pygments_lexer": "ipython3",
   "version": "3.12.7"
  }
 },
 "nbformat": 4,
 "nbformat_minor": 5
}
