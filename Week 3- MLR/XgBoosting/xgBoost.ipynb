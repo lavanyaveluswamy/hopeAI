{
 "cells": [
  {
   "cell_type": "code",
   "execution_count": 1,
   "id": "4b9db111-0b71-4acd-b86c-a24d85588e8e",
   "metadata": {},
   "outputs": [],
   "source": [
    "import pandas as pd\n",
    "dataset = pd.read_csv(\"50_Startups.csv\")"
   ]
  },
  {
   "cell_type": "code",
   "execution_count": 2,
   "id": "d5ad4c66-2748-42ff-b112-31c8ea3e7129",
   "metadata": {},
   "outputs": [],
   "source": [
    "dataset = pd.get_dummies(dataset,drop_first = True)\n",
    "dataset = dataset.astype(int)"
   ]
  },
  {
   "cell_type": "code",
   "execution_count": 3,
   "id": "161ffec5-92a5-484d-949c-6aa5b023cdcd",
   "metadata": {},
   "outputs": [],
   "source": [
    "independent = dataset[['R&D Spend', 'Administration', 'Marketing Spend','State_Florida', 'State_New York']]"
   ]
  },
  {
   "cell_type": "code",
   "execution_count": 4,
   "id": "01cba470-72ad-48a9-acfd-2a9c0dd450aa",
   "metadata": {},
   "outputs": [],
   "source": [
    "dependent = dataset[['Profit']]"
   ]
  },
  {
   "cell_type": "code",
   "execution_count": 5,
   "id": "95195fb1-ee43-4246-9590-6c2d11cc26e6",
   "metadata": {},
   "outputs": [],
   "source": [
    "from sklearn.model_selection import train_test_split\n",
    "x_train, x_test, y_train, y_test = train_test_split(independent, dependent,test_size = 0.30, random_state = 0)"
   ]
  },
  {
   "cell_type": "code",
   "execution_count": 14,
   "id": "67b10367-76be-4407-babd-53c3bc5b00b6",
   "metadata": {},
   "outputs": [],
   "source": [
    "import xgboost\n",
    "from xgboost import XGBRegressor\n"
   ]
  },
  {
   "cell_type": "code",
   "execution_count": 18,
   "id": "ead10059-1d9b-4eca-a283-4fb2e773f839",
   "metadata": {},
   "outputs": [],
   "source": [
    "# Create the model\n",
    "regressor = XGBRegressor()\n",
    "regressor = regressor.fit(x_train, y_train)"
   ]
  },
  {
   "cell_type": "code",
   "execution_count": 19,
   "id": "971f1306-4713-4e8f-9799-4fa0ca273c2b",
   "metadata": {},
   "outputs": [],
   "source": [
    "y_pred = regressor.predict(x_test)"
   ]
  },
  {
   "cell_type": "code",
   "execution_count": 20,
   "id": "7fb16d05-4316-4584-bde7-be89a691c3fc",
   "metadata": {},
   "outputs": [
    {
     "data": {
      "text/plain": [
       "0.9274109601974487"
      ]
     },
     "execution_count": 20,
     "metadata": {},
     "output_type": "execute_result"
    }
   ],
   "source": [
    "from sklearn.metrics import r2_score\n",
    "r_score = r2_score\n",
    "result = r_score(y_test,y_pred)\n",
    "result"
   ]
  },
  {
   "cell_type": "code",
   "execution_count": 21,
   "id": "b6c51c28-5ea3-41a8-9f8e-a445cc06de5f",
   "metadata": {},
   "outputs": [],
   "source": [
    "import pickle"
   ]
  },
  {
   "cell_type": "code",
   "execution_count": 22,
   "id": "023eb512-b1c6-48fa-8edf-ab20efdfd6a3",
   "metadata": {},
   "outputs": [],
   "source": [
    "filename = \"XgBoost.sav\"\n",
    "pickle.dump(regressor, open(filename, 'wb'))"
   ]
  },
  {
   "cell_type": "code",
   "execution_count": 23,
   "id": "1c14e093-2dfe-4723-84d0-f8aeeea1e124",
   "metadata": {},
   "outputs": [],
   "source": [
    "loaded_model = pickle.load(open(\"XgBoost.sav\",'rb'))\n"
   ]
  },
  {
   "cell_type": "code",
   "execution_count": 24,
   "id": "69f61368-003f-40e3-903e-fd70564e826d",
   "metadata": {},
   "outputs": [
    {
     "name": "stdin",
     "output_type": "stream",
     "text": [
      "R&D 123\n",
      "Adminstrator 1231\n",
      "Marketing 123\n",
      "Florida 0\n",
      "NewYork 1\n"
     ]
    }
   ],
   "source": [
    "rd_input = float(input(\"R&D\"))\n",
    "admin_input = float(input(\"Adminstrator\"))\n",
    "marketing_input = float(input(\"Marketing\"))\n",
    "florida_input = int(input(\"Florida\"))\n",
    "newYork_input = int(input(\"NewYork\"))"
   ]
  },
  {
   "cell_type": "code",
   "execution_count": 25,
   "id": "baa58ec1-889e-4f51-bda8-bb7b8e8b0fe9",
   "metadata": {},
   "outputs": [],
   "source": [
    "result = loaded_model.predict([[rd_input,admin_input, marketing_input, florida_input, newYork_input]])"
   ]
  },
  {
   "cell_type": "code",
   "execution_count": 26,
   "id": "2043e734-226b-4df8-a086-b335bdf5494b",
   "metadata": {},
   "outputs": [
    {
     "data": {
      "text/plain": [
       "array([25642.203], dtype=float32)"
      ]
     },
     "execution_count": 26,
     "metadata": {},
     "output_type": "execute_result"
    }
   ],
   "source": [
    "result"
   ]
  }
 ],
 "metadata": {
  "kernelspec": {
   "display_name": "Python [conda env:base] *",
   "language": "python",
   "name": "conda-base-py"
  },
  "language_info": {
   "codemirror_mode": {
    "name": "ipython",
    "version": 3
   },
   "file_extension": ".py",
   "mimetype": "text/x-python",
   "name": "python",
   "nbconvert_exporter": "python",
   "pygments_lexer": "ipython3",
   "version": "3.12.7"
  }
 },
 "nbformat": 4,
 "nbformat_minor": 5
}
