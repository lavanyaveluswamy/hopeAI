{
 "cells": [
  {
   "cell_type": "code",
   "execution_count": 1,
   "id": "9dbfa02f-98c4-4d5c-b1b8-46f25535e4e6",
   "metadata": {},
   "outputs": [
    {
     "ename": "ModuleNotFoundError",
     "evalue": "No module named 'xgboost'",
     "output_type": "error",
     "traceback": [
      "\u001b[1;31m---------------------------------------------------------------------------\u001b[0m",
      "\u001b[1;31mModuleNotFoundError\u001b[0m                       Traceback (most recent call last)",
      "Cell \u001b[1;32mIn[1], line 1\u001b[0m\n\u001b[1;32m----> 1\u001b[0m \u001b[38;5;28;01mimport\u001b[39;00m \u001b[38;5;21;01mxgboost\u001b[39;00m\n",
      "\u001b[1;31mModuleNotFoundError\u001b[0m: No module named 'xgboost'"
     ]
    }
   ],
   "source": [
    "import xgboost"
   ]
  },
  {
   "cell_type": "code",
   "execution_count": 2,
   "id": "f29b9ae4-8d7e-4a6c-a464-5e5e7f383b32",
   "metadata": {},
   "outputs": [
    {
     "name": "stdout",
     "output_type": "stream",
     "text": [
      "Collecting xgboost\n",
      "  Downloading xgboost-3.0.2-py3-none-win_amd64.whl.metadata (2.1 kB)\n",
      "Requirement already satisfied: numpy in c:\\anaconda3\\lib\\site-packages (from xgboost) (1.26.4)\n",
      "Requirement already satisfied: scipy in c:\\anaconda3\\lib\\site-packages (from xgboost) (1.13.1)\n",
      "Downloading xgboost-3.0.2-py3-none-win_amd64.whl (150.0 MB)\n",
      "   ---------------------------------------- 0.0/150.0 MB ? eta -:--:--\n",
      "   ---------------------------------------- 1.8/150.0 MB 12.6 MB/s eta 0:00:12\n",
      "   - -------------------------------------- 5.0/150.0 MB 14.3 MB/s eta 0:00:11\n",
      "   -- ------------------------------------- 8.9/150.0 MB 15.8 MB/s eta 0:00:09\n",
      "   --- ------------------------------------ 14.7/150.0 MB 18.4 MB/s eta 0:00:08\n",
      "   ----- ---------------------------------- 21.8/150.0 MB 21.5 MB/s eta 0:00:06\n",
      "   ------- -------------------------------- 29.9/150.0 MB 24.3 MB/s eta 0:00:05\n",
      "   ---------- ----------------------------- 40.4/150.0 MB 27.9 MB/s eta 0:00:04\n",
      "   ------------- -------------------------- 49.5/150.0 MB 30.0 MB/s eta 0:00:04\n",
      "   --------------- ------------------------ 59.0/150.0 MB 31.6 MB/s eta 0:00:03\n",
      "   ------------------ --------------------- 69.2/150.0 MB 33.2 MB/s eta 0:00:03\n",
      "   --------------------- ------------------ 78.9/150.0 MB 34.2 MB/s eta 0:00:03\n",
      "   ----------------------- ---------------- 88.3/150.0 MB 35.4 MB/s eta 0:00:02\n",
      "   -------------------------- ------------- 97.8/150.0 MB 35.7 MB/s eta 0:00:02\n",
      "   ---------------------------- ---------- 108.8/150.0 MB 37.1 MB/s eta 0:00:02\n",
      "   ------------------------------ -------- 118.8/150.0 MB 37.5 MB/s eta 0:00:01\n",
      "   --------------------------------- ----- 128.7/150.0 MB 38.1 MB/s eta 0:00:01\n",
      "   ----------------------------------- --- 137.9/150.0 MB 38.1 MB/s eta 0:00:01\n",
      "   --------------------------------------  146.3/150.0 MB 38.3 MB/s eta 0:00:01\n",
      "   --------------------------------------  149.9/150.0 MB 38.3 MB/s eta 0:00:01\n",
      "   --------------------------------------  149.9/150.0 MB 38.3 MB/s eta 0:00:01\n",
      "   --------------------------------------- 150.0/150.0 MB 33.9 MB/s eta 0:00:00\n",
      "Installing collected packages: xgboost\n",
      "Successfully installed xgboost-3.0.2\n"
     ]
    }
   ],
   "source": [
    "!pip install xgboost"
   ]
  },
  {
   "cell_type": "code",
   "execution_count": 3,
   "id": "127f3fb0-173f-4e58-975e-7f613e604979",
   "metadata": {},
   "outputs": [],
   "source": [
    "import xgboost"
   ]
  },
  {
   "cell_type": "code",
   "execution_count": 4,
   "id": "67a2700c-ceb8-4c8b-a66a-ff4ca8f72d92",
   "metadata": {},
   "outputs": [
    {
     "name": "stdout",
     "output_type": "stream",
     "text": [
      "3.0.2\n"
     ]
    }
   ],
   "source": [
    "print(xgboost.__version__)"
   ]
  },
  {
   "cell_type": "code",
   "execution_count": null,
   "id": "49ee9298-1abf-40ab-a4fd-b5e6159fc37c",
   "metadata": {},
   "outputs": [],
   "source": []
  }
 ],
 "metadata": {
  "kernelspec": {
   "display_name": "Python [conda env:base] *",
   "language": "python",
   "name": "conda-base-py"
  },
  "language_info": {
   "codemirror_mode": {
    "name": "ipython",
    "version": 3
   },
   "file_extension": ".py",
   "mimetype": "text/x-python",
   "name": "python",
   "nbconvert_exporter": "python",
   "pygments_lexer": "ipython3",
   "version": "3.12.7"
  }
 },
 "nbformat": 4,
 "nbformat_minor": 5
}
