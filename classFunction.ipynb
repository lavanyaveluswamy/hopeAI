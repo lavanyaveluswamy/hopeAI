{
 "cells": [
  {
   "cell_type": "code",
   "execution_count": 1,
   "id": "b2771e61-bf91-420a-8d91-07eacd67d677",
   "metadata": {},
   "outputs": [],
   "source": [
    "from MultiClass import MultiFunctionInClass"
   ]
  },
  {
   "cell_type": "code",
   "execution_count": 2,
   "id": "89e9aa6d-4128-4604-ad35-47a29cae0098",
   "metadata": {},
   "outputs": [
    {
     "name": "stdout",
     "output_type": "stream",
     "text": [
      "Sub fields in ai are\n",
      "Machine Learning\n",
      "Deep Learning\n",
      "NLP\n",
      "Timeseriesanaysis\n"
     ]
    }
   ],
   "source": [
    "MultiFunctionInClass.subfieldsinAI()"
   ]
  },
  {
   "cell_type": "code",
   "execution_count": 3,
   "id": "d04b22da-2c9c-4e51-af2f-10b84310f9e2",
   "metadata": {},
   "outputs": [
    {
     "name": "stdin",
     "output_type": "stream",
     "text": [
      "Enter a Number 56423\n"
     ]
    },
    {
     "data": {
      "text/plain": [
       "'Odd'"
      ]
     },
     "execution_count": 3,
     "metadata": {},
     "output_type": "execute_result"
    }
   ],
   "source": [
    "MultiFunctionInClass.OddEven()"
   ]
  },
  {
   "cell_type": "code",
   "execution_count": 4,
   "id": "2907ba81-9d01-49a4-bd8e-add7d5e80ed1",
   "metadata": {},
   "outputs": [
    {
     "name": "stdout",
     "output_type": "stream",
     "text": [
      "Eligible\n"
     ]
    }
   ],
   "source": [
    "print(MultiFunctionInClass.eligiblityForMarriage(\"Male\",23))"
   ]
  },
  {
   "cell_type": "code",
   "execution_count": 5,
   "id": "a186f34f-d18c-4d3f-951a-5ffe5019c603",
   "metadata": {},
   "outputs": [
    {
     "name": "stdout",
     "output_type": "stream",
     "text": [
      "89.0\n"
     ]
    }
   ],
   "source": [
    "print(MultiFunctionInClass.findPercent(88,89,90,89,89))"
   ]
  },
  {
   "cell_type": "code",
   "execution_count": 6,
   "id": "fcb2d6ed-29aa-4926-a6ad-25c3286d0449",
   "metadata": {},
   "outputs": [
    {
     "name": "stdout",
     "output_type": "stream",
     "text": [
      "Perimeter: 12\n",
      "Area: 6.0\n"
     ]
    }
   ],
   "source": [
    "triangle = Triangle(3,4,5)\n",
    "print(\"Perimeter:\", triangle.perimeter())  \n",
    "print(\"Area:\", triangle.area() )"
   ]
  },
  {
   "cell_type": "code",
   "execution_count": null,
   "id": "0c9f404a-9dc2-47b1-abef-8b34b08ae054",
   "metadata": {},
   "outputs": [],
   "source": []
  }
 ],
 "metadata": {
  "kernelspec": {
   "display_name": "Python [conda env:base] *",
   "language": "python",
   "name": "conda-base-py"
  },
  "language_info": {
   "codemirror_mode": {
    "name": "ipython",
    "version": 3
   },
   "file_extension": ".py",
   "mimetype": "text/x-python",
   "name": "python",
   "nbconvert_exporter": "python",
   "pygments_lexer": "ipython3",
   "version": "3.12.7"
  }
 },
 "nbformat": 4,
 "nbformat_minor": 5
}
