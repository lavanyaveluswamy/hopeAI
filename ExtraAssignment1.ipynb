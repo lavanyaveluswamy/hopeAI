{
 "cells": [
  {
   "cell_type": "code",
   "execution_count": 1,
   "id": "94730648",
   "metadata": {
    "vscode": {
     "languageId": "plaintext"
    }
   },
   "outputs": [
    {
     "name": "stdout",
     "output_type": "stream",
     "text": [
      "HOPE AI\n"
     ]
    }
   ],
   "source": [
    "print(\"HOPE AI\")"
   ]
  },
  {
   "cell_type": "code",
   "execution_count": 2,
   "id": "16b93080",
   "metadata": {
    "vscode": {
     "languageId": "plaintext"
    }
   },
   "outputs": [
    {
     "name": "stdin",
     "output_type": "stream",
     "text": [
      "Enter your institute Name Hope AI\n"
     ]
    }
   ],
   "source": [
    "insttituteName = input(\"Enter your institute Name\")"
   ]
  },
  {
   "cell_type": "code",
   "execution_count": null,
   "id": "0a400253-d05f-4696-bff8-2711b7e1d52b",
   "metadata": {},
   "outputs": [],
   "source": []
  },
  {
   "cell_type": "code",
   "execution_count": null,
   "id": "fb981e6c-b6cc-424f-97d5-f82ad5c37945",
   "metadata": {},
   "outputs": [],
   "source": []
  },
  {
   "cell_type": "code",
   "execution_count": 3,
   "id": "74b8623b-4c12-4cff-abbc-e8932467e485",
   "metadata": {},
   "outputs": [
    {
     "name": "stdin",
     "output_type": "stream",
     "text": [
      "Enter your Name lavanya\n",
      "Enter your age 34\n",
      "Enter your School idela\n",
      "Enter your Degree MCA\n"
     ]
    }
   ],
   "source": [
    "name = input(\"Enter your Name\")\n",
    "age = input(\"Enter your age\")\n",
    "school = input(\"Enter your School\")\n",
    "degree = input(\"Enter your Degree\")"
   ]
  },
  {
   "cell_type": "code",
   "execution_count": 6,
   "id": "ce9d5cb9-2ced-460a-8e1b-385085a6433b",
   "metadata": {},
   "outputs": [
    {
     "name": "stdout",
     "output_type": "stream",
     "text": [
      "a: 76\n",
      "b: 31\n",
      "Addition: 107\n",
      "Subtraction: 45\n",
      "Multiplication: 2356\n",
      "Float Division: 2.4516129032258065\n",
      "Floor Division: 2\n",
      "Modulo: 14\n",
      "Power: 20193953909944105208731682060580064457051617930320938008576\n"
     ]
    }
   ],
   "source": [
    "a = 76\n",
    "b= 31\n",
    "add = a+ b\n",
    "sub = a-b\n",
    "mul = a * b\n",
    "floatDiv = a / b\n",
    "floorDiv = a//b\n",
    "modulo = a%b\n",
    "power = a**b\n",
    "\n",
    "print(\"a:\", a)\n",
    "print(\"b:\", b)\n",
    "print(\"Addition:\", add)\n",
    "print(\"Subtraction:\", sub)\n",
    "print(\"Multiplication:\", mul)\n",
    "print(\"Float Division:\", floatDiv)\n",
    "print(\"Floor Division:\", floorDiv)\n",
    "print(\"Modulo:\", modulo)\n",
    "print(\"Power:\", power)"
   ]
  },
  {
   "cell_type": "code",
   "execution_count": null,
   "id": "4a0c536f-7167-4515-90d4-33c917669200",
   "metadata": {},
   "outputs": [],
   "source": []
  }
 ],
 "metadata": {
  "kernelspec": {
   "display_name": "Python [conda env:base] *",
   "language": "python",
   "name": "conda-base-py"
  },
  "language_info": {
   "codemirror_mode": {
    "name": "ipython",
    "version": 3
   },
   "file_extension": ".py",
   "mimetype": "text/x-python",
   "name": "python",
   "nbconvert_exporter": "python",
   "pygments_lexer": "ipython3",
   "version": "3.12.7"
  }
 },
 "nbformat": 4,
 "nbformat_minor": 5
}
